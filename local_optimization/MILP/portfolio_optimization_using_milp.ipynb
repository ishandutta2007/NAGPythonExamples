{
 "cells": [
  {
   "cell_type": "markdown",
   "id": "cac8a62f-1a60-440e-a4db-616c55986648",
   "metadata": {},
   "source": [
    "## Installing the NAG Library and running this notebook\n",
    "To run this notebook, you will need to install the NAG Library for Python (Mark 29.3 or newer) and a license key. You can find the software and obtain a license key (trials are available) from [Getting Started with the NAG Library](https://www.nag.com/content/getting-started-nag-library?lang=py&os=linuxto).\n"
   ]
  },
  {
   "cell_type": "markdown",
   "id": "f120907d-0410-4d07-aec3-b0163e539031",
   "metadata": {},
   "source": [
    "# Portfolio optimization with MILP using the NAG Library\n",
    "\n",
    "A mixed integer linear programming (MILP) model is an extension to a linear programming model where some or all of the variables are constrained to be integer. The ability to handle integer variables makes this an extremely powerful tool with applications in a huge number of industries. Here, we will consider a MILP model of an optimal mean/Value-at-Risk (VaR) portfolio optimization problem by [Benati and Rizzi (2007)](#References). This is an extension to a classic Markowitz model in which the aim is to maximize returns while minimizing risk. However, in this instance, the variance risk measure has been replaced by VaR.\n",
    "\n",
    "VaR is a widely used risk measure in portfolio management: it quantifies the maximum potential loss within a specified confidence level over a defined time frame. Specifically, VaR is simply the $\\alpha$-quantile of the return distribution function. Unlike other risk measures such as standard deviation or expected shortfall, VaR provides a clear and intuitive assessment of downside risk, making it a preferred choice for investors concerned with the probability of experiencing significant losses. While the mathematical properties of VaR are slightly unappealing (it is a piece-wise linear function and not convex), simplicity in its interpretation makes VaR a popular tool nonetheless.\n",
    "\n",
    "In this instance, VaR is calculated using a non-parametric method - this means that no assumptions are made about the distribution of portfolio returns. Instead of fitting a parametric model (e.g. normal or student-t distribution) to historical data, which can be restrictive, we use historical simulation. This method reorganizes historical return data, putting it in order of worst to best. The $\\alpha$-quantile is then estimated by the position of the observation that has the $\\alpha$-percent of data on the left.\n",
    "\n",
    "In this notebook, we solve the \"Min Risk/Fixed Return\" implementation of this problem. This problem contains VaR constraints, cardinality constraints, semicontinuous constraints, a minimum return constraint, a budget (full investment) constraint, and long-only constraints."
   ]
  },
  {
   "cell_type": "code",
   "execution_count": 1,
   "id": "6290f139-6198-4657-8407-0c134b3e7ff1",
   "metadata": {},
   "outputs": [],
   "source": [
    "# Import modules\n",
    "from naginterfaces.base import utils\n",
    "from naginterfaces.library import opt, mip\n",
    "import numpy as np\n",
    "import time"
   ]
  },
  {
   "cell_type": "markdown",
   "id": "946f315c-92cb-4d53-a187-2123f45509b4",
   "metadata": {},
   "source": [
    "For this model, we need to set some parameters. \n",
    "\n",
    "We have past observations $i \\in I=\\{1,\\dots,T\\}$ and assets $j \\in J=\\{1,\\dots,K\\}$.\n",
    "\n",
    "We set $r^*$ to be the minimum expected return that will be accepted and $r^{\\textrm{Min}}$ is the minimum return that can be observed in the market. We also choose $r^{\\textrm{VaR}}$: a parameter set by the decision maker to control risk. They will only accept portfolios for which the probability of a return less than $r^{\\textrm{VaR}}$ is less than or equal to $\\alpha^{\\textrm{VaR}}$. Further, we have probabilities $p_i$ associated with each observation $x_i$. These probabilities represent the occurrence of past realization $i$. For illustrative purposes, we set each observation to have equal probability and we synthetically generate returns data."
   ]
  },
  {
   "cell_type": "code",
   "execution_count": 2,
   "id": "4dc120e8-9e78-45a6-846c-12a90658f69c",
   "metadata": {},
   "outputs": [],
   "source": [
    "# Set parameters\n",
    "n_assets = 300 # K\n",
    "n_periods = 20 # T\n",
    "r_star = 0.05\n",
    "r_min = -1\n",
    "r_var = 0.05\n",
    "prob = 1/n_periods\n",
    "\n",
    "# Synthetic data generation of expected returns for each asset\n",
    "np.random.seed(0)\n",
    "expected_returns = 0.25 * np.random.randn(n_periods, n_assets) "
   ]
  },
  {
   "cell_type": "markdown",
   "id": "26a04836-73b7-4150-b510-3f6a1753afcc",
   "metadata": {},
   "source": [
    "Next, we define the variables used in the model:\n",
    "* Variables $\\lambda_j$ are the percentage of wealth that is allocated to asset $j$.\n",
    "* Variables $x_i$ represent the portfolio observed return in time $i$.\n",
    "* Variables $y_i$ are binary (associated with $x_i$) and used for modelling the VaR constraints.\n",
    "* Variables $z_j$ are binary (associated with $\\lambda_j$) and used for modelling the cardinality and semicontinuous constraints.\n",
    "* $\\alpha^{\\textrm{VaR}}$ is the probability associated with VaR."
   ]
  },
  {
   "cell_type": "code",
   "execution_count": 3,
   "id": "4b81e7b1-aac9-49a0-8c06-bef34f503409",
   "metadata": {},
   "outputs": [],
   "source": [
    "# There are asset_weights[n_assets] + binary_y[n_periods] + observed_return[n_periods] + binary_z[n_assets] + aVaR[1]\n",
    "n_vars = n_assets + n_periods + n_periods + n_assets + 1\n",
    "\n",
    "# Create index sets for each set of variables:\n",
    "idx_asset_w = np.arange(1, n_assets+1, dtype=int)\n",
    "idx_bin_y = np.arange(n_assets+1, n_assets+n_periods+1, dtype=int)\n",
    "idx_obs_ret = np.arange(n_assets+n_periods+1, n_assets+2*n_periods+1, dtype=int)\n",
    "idx_bin_z = np.arange(n_assets+2*n_periods+1, 2*n_assets+2*n_periods+1, dtype=int)\n",
    "idx_avar = [n_vars]\n",
    "\n",
    "# Initialize the problem handle:\n",
    "handle = opt.handle_init(nvar=n_vars)\n",
    "\n",
    "# Set binary variables:\n",
    "opt.handle_set_property(handle=handle, ptype='Bin', idx=idx_bin_y)\n",
    "opt.handle_set_property(handle=handle, ptype='Bin', idx=idx_bin_z)"
   ]
  },
  {
   "cell_type": "markdown",
   "id": "10f71de2-da9b-4bf5-817d-576956196ead",
   "metadata": {},
   "source": [
    "## Constraints:\n",
    "Since this is a MILP model, we set all linear constraints using [***handle_set_linconstr()***](https://support.nag.com/numeric/py/nagdoc_latest/naginterfaces.library.opt.handle_set_linconstr.html).\n",
    "\n",
    "The first constraint that we implement enforces that the optimal portfolio should be greater than the **minimum acceptable portfolio expected return**:\n",
    "$$\\sum_{i=1}^{T} p_i x_i \\geq r^*.$$"
   ]
  },
  {
   "cell_type": "code",
   "execution_count": 4,
   "id": "0cc5b36d-0ed7-4925-acff-a07cda854dcf",
   "metadata": {},
   "outputs": [],
   "source": [
    "ones_periods = np.ones(n_periods, dtype=int)\n",
    "opt.handle_set_linconstr(\n",
    "    handle=handle,\n",
    "    bl=r_star,\n",
    "    bu=1.e20,\n",
    "    irowb=ones_periods,\n",
    "    icolb=idx_obs_ret,\n",
    "    b=[prob]*n_periods\n",
    ");"
   ]
  },
  {
   "cell_type": "markdown",
   "id": "3ea59af3-a465-4dae-a732-1878d401e892",
   "metadata": {},
   "source": [
    "Next, we need to enforce that $x_i$ is the **result of the percentage of wealth allocated to each asset and the expected return of that asset** for each time period:\n",
    "\n",
    "$$\\sum_{j=1}^{K} \\lambda_j r_{ij} = x_i \\quad \\forall \\, i=1,\\dots,T.$$"
   ]
  },
  {
   "cell_type": "markdown",
   "id": "d2a523e8-9a71-4e24-979d-dd07243a1fbf",
   "metadata": {},
   "source": [
    "This requires slight rearrangement to be input into the model - we stack the variables $\\lambda$ and $x$ and express the rearrangement in matrix notation:\n",
    "\n",
    "\\begin{equation*}\n",
    "\\begin{bmatrix}\n",
    "r_{i1}  &\n",
    "\\dots &\n",
    "r_{iK} &\n",
    "-1\n",
    "\\end{bmatrix}\n",
    "\\begin{bmatrix}\n",
    "\\lambda_1  \\\\\n",
    "\\vdots \\\\\n",
    "\\lambda_K \\\\\n",
    "x_i\n",
    "\\end{bmatrix}\n",
    "= 0 \\quad \\forall \\, i = 1,\\dots,T.\n",
    "\\end{equation*}\n"
   ]
  },
  {
   "cell_type": "code",
   "execution_count": 5,
   "id": "8dbfe45d-cd8d-4ac5-a923-2c62c4b0d296",
   "metadata": {},
   "outputs": [],
   "source": [
    "ones_assets_1 = np.ones(n_assets+1, dtype=int)\n",
    "for i in range(n_periods):\n",
    "    i_obs_ret = n_assets + n_periods + 1 + i\n",
    "    returns = expected_returns[i, :]\n",
    "    returns_x = np.append(returns, -1.)\n",
    "    idx_col = np.append(idx_asset_w, i_obs_ret)\n",
    "    opt.handle_set_linconstr(\n",
    "        handle=handle,\n",
    "        bl=0.,\n",
    "        bu=0.,\n",
    "        irowb=ones_assets_1,\n",
    "        icolb=idx_col,\n",
    "        b=returns_x\n",
    "    )"
   ]
  },
  {
   "cell_type": "markdown",
   "id": "09ef6f86-37f9-4c81-a4e9-9114d9560cee",
   "metadata": {},
   "source": [
    "Next, we want to add constraints that **prevent the selection of portfolios with VaR below the threshold**. To do this, we introduce binary variables $y_i$ associated with each $x_i$. Then the VaR constraint can be modelled in the following way:\n",
    "\n",
    "$$r^{\\textrm{Min}} + (r^{\\textrm{VaR}} - r^{\\textrm{Min}})y_i \\leq x_i \\quad \\forall \\, i=1,\\dots,T,$$\n",
    "$$\\sum_{i=1}^{T} p_i(1-y_i) \\leq \\alpha^{\\textrm{VaR}}.$$\n",
    "\n",
    "The first constraint enforces that $y_i$ is equal to $0$ for $x_i$ less than $r^{\\textrm{VaR}}$. In the second constraint, this corresponds to $1 - y_i = 1 - 0 = 1$, leading to the summation of probabilities of time periods $i$ with returns less than the VaR threshold. If this probability is greater than $\\alpha^{\\textrm{VaR}}$, it results in an infeasible portfolio.\n",
    "\n",
    "Rearranged into matrix notation, the first constraint becomes:\n",
    "\n",
    "\\begin{equation*}\n",
    "\\begin{bmatrix}\n",
    "(r^{\\textrm{Min}}-r^{\\textrm{VaR}})  &\n",
    "1\n",
    "\\end{bmatrix}\n",
    "\\begin{bmatrix}\n",
    "y_i  \\\\\n",
    "x_i\n",
    "\\end{bmatrix}\n",
    "\\geq r^{\\textrm{Min}} \\quad \\forall \\, i = 1,\\dots,T,\n",
    "\\end{equation*}\n",
    "\n",
    "and the second constraint becomes:\n",
    "\n",
    "\\begin{equation*}\n",
    "\\begin{bmatrix}\n",
    "p_{1}  &\n",
    "\\dots &\n",
    "p_{T} &\n",
    "1\n",
    "\\end{bmatrix}\n",
    "\\begin{bmatrix}\n",
    "y_1  \\\\\n",
    "\\vdots \\\\\n",
    "y_T \\\\\n",
    "\\alpha^{\\textrm{VaR}}\n",
    "\\end{bmatrix}\n",
    "\\geq 1.\n",
    "\\end{equation*}"
   ]
  },
  {
   "cell_type": "code",
   "execution_count": 6,
   "id": "132124cd-faec-4f3a-9efa-3b8ec5e04b29",
   "metadata": {},
   "outputs": [],
   "source": [
    "y_coef = r_min - r_var\n",
    "for i in range(n_periods):\n",
    "    y_i = n_assets + 1 + i\n",
    "    x_i = n_assets + n_periods + 1 + i     \n",
    "    opt.handle_set_linconstr(\n",
    "        handle=handle,\n",
    "        bl=r_min,\n",
    "        bu=1.e20,\n",
    "        irowb=[1, 1],\n",
    "        icolb=[y_i, x_i],\n",
    "        b=[y_coef, 1.]\n",
    "    )\n",
    "\n",
    "ones_periods_1 = np.ones(n_periods+1, dtype=int)\n",
    "idx_bin_avar = np.append(idx_bin_y, idx_avar)\n",
    "opt.handle_set_linconstr(\n",
    "    handle=handle,\n",
    "    bl=1.0,\n",
    "    bu=1.e20,\n",
    "    irowb=ones_periods_1,\n",
    "    icolb=idx_bin_avar,\n",
    "    b=np.append([prob]*n_periods, 1.)\n",
    ");"
   ]
  },
  {
   "cell_type": "markdown",
   "id": "e1a63193-f373-4d39-a32d-d371b832b27b",
   "metadata": {},
   "source": [
    "**Full investment** constraint:\n",
    "\n",
    "$$\\sum_{j=1}^{K} \\lambda_j = 1.$$"
   ]
  },
  {
   "cell_type": "code",
   "execution_count": 7,
   "id": "0efec5b9-1b3a-4d83-9791-65942f7fa985",
   "metadata": {},
   "outputs": [],
   "source": [
    "ones_assets_float = np.ones(n_assets, dtype=float)\n",
    "ones_assets = np.ones(n_assets, dtype=int)\n",
    "opt.handle_set_linconstr(\n",
    "    handle=handle,\n",
    "    bl=1.0,\n",
    "    bu=1.0,\n",
    "    irowb=ones_assets,\n",
    "    icolb=idx_asset_w,\n",
    "    b=ones_assets_float\n",
    ");"
   ]
  },
  {
   "cell_type": "markdown",
   "id": "a3577eb0-3492-4921-9c93-de327fb41b62",
   "metadata": {},
   "source": [
    "Next, we want to add **semicontinuous constraints** to confine the optimal allocation of the assets to be between $5\\%$ and $70\\%$:\n",
    "$$\\lambda_j \\in 0 \\cup [0.05, 0.7] \\quad \\forall \\, j = 1,\\dots, K.$$\n",
    "\n",
    "Using binary variables $z_j$, the semicontinuous constraint can be expressed as follows:\n",
    "\n",
    "$$0.05 \\cdot z_j \\leq \\lambda_j \\leq 0.7 \\cdot z_j \\quad \\forall \\, j=1,\\dots, K.$$\n",
    "\n",
    "These constraints enforce that if $z_j$ is equal to $1$, then $\\lambda_j$ can take any value in the interval between $0.05$ and $0.7$. When $z_j$ equals $0$, then $\\lambda_j$ must also equal $0$."
   ]
  },
  {
   "cell_type": "code",
   "execution_count": 8,
   "id": "cc09f5a8-b2da-443c-8026-2a88ad2c4ea8",
   "metadata": {},
   "outputs": [],
   "source": [
    "for j in range(n_assets):\n",
    "    lambda_j = 1 + j\n",
    "    z_j = n_assets + 2*n_periods + 1 + j\n",
    "    opt.handle_set_linconstr(\n",
    "        handle=handle,\n",
    "        bl=-1.e20,\n",
    "        bu=0.0,\n",
    "        irowb=[1, 1],\n",
    "        icolb=[lambda_j, z_j],\n",
    "        b=[1., -0.7]\n",
    "    )\n",
    "   \n",
    "    opt.handle_set_linconstr(\n",
    "        handle=handle,\n",
    "        bl=0.0,\n",
    "        bu=1.e20,\n",
    "        irowb=[1, 1],\n",
    "        icolb=[lambda_j, z_j],\n",
    "        b=[1., -0.05]\n",
    "    )"
   ]
  },
  {
   "cell_type": "markdown",
   "id": "934646d5-57e8-43f2-adb6-828f17473105",
   "metadata": {},
   "source": [
    "Next, we want $10\\%$ of the assets to be included in the optimal portfolio, so we add a **cardinality constraint**:\n",
    "$$||\\lambda||_0 \\leq 0.1 \\cdot K.$$\n",
    "\n",
    "This can be modelled by adding a binary variable $z_j$ for each $\\lambda_j$. When $z_j$ is equal to $0$, this indicates that asset $\\lambda_j$ is not allocated; when $z_j$ is equal to $1$, asset $\\lambda_j$ has been allocated. Then the cardinality constraint can be modelled by summing the binary variables:\n",
    "\n",
    "$$\\sum_{j=1}^K z_j \\leq 0.1 \\cdot K.$$"
   ]
  },
  {
   "cell_type": "code",
   "execution_count": 9,
   "id": "bea9b819-077e-4075-a954-2fcf3357a197",
   "metadata": {},
   "outputs": [],
   "source": [
    "opt.handle_set_linconstr(\n",
    "    handle=handle,\n",
    "    bl=-1.e20,\n",
    "    bu=0.1*n_assets,\n",
    "    irowb=ones_assets,\n",
    "    icolb=idx_bin_z,\n",
    "    b=ones_assets_float\n",
    ");"
   ]
  },
  {
   "cell_type": "markdown",
   "id": "810bba10-a1aa-4cd4-95d5-9b0d968495be",
   "metadata": {},
   "source": [
    "Bound constraints to **prevent short-selling**:\n",
    "\n",
    "$$\\lambda_j \\geq 0 \\quad \\forall \\, j=1,\\dots,K.$$"
   ]
  },
  {
   "cell_type": "code",
   "execution_count": 10,
   "id": "afb2b374-e6c6-4f1d-af3e-b69ace80ae57",
   "metadata": {},
   "outputs": [],
   "source": [
    "# Set bound constraints:\n",
    "zeros_asset_w = np.zeros(n_assets)\n",
    "neg_lrg_bnd = np.full((n_periods + n_periods + n_assets + 1), -1.e20, dtype=float).ravel()\n",
    "bl = np.hstack([zeros_asset_w, neg_lrg_bnd])\n",
    "opt.handle_set_simplebounds(\n",
    "    handle,\n",
    "    bl=bl,\n",
    "    bu=[1.e20]*n_vars,\n",
    ")"
   ]
  },
  {
   "cell_type": "markdown",
   "id": "70f84e9d-b236-4342-9999-d3bf1b226488",
   "metadata": {},
   "source": [
    "## Objective function:\n",
    "We want to minimize risk:\n",
    "\n",
    "\\begin{equation*}\n",
    "\\min_{\\alpha^{\\textrm{VaR}},\\lambda,x,y} \\alpha^{\\textrm{VaR}}\n",
    "\\end{equation*}\n",
    "\n",
    "\n",
    "Even though the objective function is linear, we use [***handle_set_quadobj()***](https://support.nag.com/numeric/py/nagdoc_latest/naginterfaces.library.opt.handle_set_quadobj.html) because it is sparse."
   ]
  },
  {
   "cell_type": "code",
   "execution_count": 11,
   "id": "07fa779f-a9f6-4aa0-a187-3d088cad238b",
   "metadata": {},
   "outputs": [],
   "source": [
    "# Set the objective function:\n",
    "opt.handle_set_quadobj(\n",
    "        handle,\n",
    "        idxc=idx_avar,\n",
    "        c=[1.0],\n",
    "    )"
   ]
  },
  {
   "cell_type": "markdown",
   "id": "3bfe7a7c-ad79-491f-918d-3d23a30172d5",
   "metadata": {},
   "source": [
    "## Optimal mean/Value-at-Risk model\n",
    "We can now specify the full model and solve it using the [**MILP solver**](https://support.nag.com/numeric/py/nagdoc_latest/naginterfaces.library.mip.handle_solve_milp.html).\n",
    "\n",
    "\\begin{equation*}\n",
    "    \\begin{aligned}\n",
    "        &\\min_{\\alpha^{\\textrm{VaR}},\\lambda,x,y,z} &&\\alpha^{\\textrm{VaR}}\n",
    "        \\\\\n",
    "        &\\textrm{subject to } &&\\sum_{i=1}^{T} p_i x_i \\geq r^*,\n",
    "        \\\\\n",
    "        & &&\\sum_{j=1}^{K} \\lambda_j r_{ij} = x_i \\quad \\forall \\, i=1,\\dots,T,\n",
    "        \\\\\n",
    "        & &&r^{\\textrm{Min}} + (r^{\\textrm{VaR}} - r^{\\textrm{Min}})y_i \\leq x_i \\quad \\forall \\, i=1,\\dots,T,\n",
    "        \\\\\n",
    "        & &&\\sum_{i=1}^{T} p_i(1-y_i) \\leq \\alpha^{\\textrm{VaR}},\n",
    "        \\\\\n",
    "        & &&\\sum_{j=1}^{K} \\lambda_j = 1,\n",
    "        \\\\\n",
    "        & &&\\sum_{j=1}^K z_j \\leq 0.1 \\cdot K,\n",
    "        \\\\\n",
    "        & && 0.05 \\cdot z_j \\leq \\lambda_j \\leq 0.7 \\cdot z_j \\quad \\forall \\, j = 1,\\dots, K,\n",
    "        \\\\\n",
    "        & &&y_i \\in \\{0,1\\} \\quad \\forall \\, i=1,\\dots,T,\n",
    "        \\\\\n",
    "        & &&z_j \\in \\{0,1\\} \\quad \\forall \\, j=1,\\dots,K,\n",
    "        \\\\\n",
    "        & &&\\lambda_j \\geq 0 \\quad \\forall \\, j=1,\\dots,K.\n",
    "    \\end{aligned}\n",
    "\\end{equation*}"
   ]
  },
  {
   "cell_type": "code",
   "execution_count": 12,
   "id": "2cbeef24-1946-4718-8d37-20c0adbecd51",
   "metadata": {},
   "outputs": [
    {
     "name": "stdout",
     "output_type": "stream",
     "text": [
      " H02BK, Solver for MILP problems\n",
      " Begin of Options\n",
      "     Print File                    =                   9     * d\n",
      "     Print Level                   =                   1     * U\n",
      "     Print Options                 =                 Yes     * d\n",
      "     Print Solution                =                  No     * d\n",
      "     Monitoring File               =                  -1     * d\n",
      "     Monitoring Level              =                   4     * d\n",
      "\n",
      "     Infinite Bound Size           =         1.00000E+20     * d\n",
      "     Task                          =            Minimize     * d\n",
      "     Time Limit                    =         1.00000E+06     * d\n",
      "\n",
      "     Milp Presolve                 =                 Yes     * d\n",
      "     Milp Random Seed              =                   0     * d\n",
      "     Milp Feasibility Tol          =         1.00000E-06     * d\n",
      "     Milp Rel Gap                  =         1.00000E-04     * d\n",
      "     Milp Abs Gap                  =         1.00000E-06     * d\n",
      "     Milp Small Matrix Value       =         1.00000E-09     * d\n",
      "     Milp Detect Symmetry          =                 Yes     * d\n",
      "     Milp Max Nodes                =          2147483647     * d\n",
      " End of Options\n",
      "\n",
      " Status: converged, an optimal solution found\n",
      " Final primal objective value -5.551115E-17\n",
      " Final dual objective bound    0.000000E+00\n",
      "\n",
      " Computation time: 0.405 seconds\n"
     ]
    }
   ],
   "source": [
    "# Set some algorithmic options:\n",
    "for option in [\n",
    "        'Print Level = 1',\n",
    "]:\n",
    "    opt.handle_opt_set(handle, option)\n",
    "\n",
    "# Use an explicit I/O manager for abbreviated iteration output:\n",
    "iom = utils.FileObjManager(locus_in_output=False)\n",
    "\n",
    "# Start timer:\n",
    "start_solve = time.time()\n",
    "\n",
    "# Call the MILP solver:\n",
    "mip.handle_solve_milp(handle, io_manager=iom)\n",
    "\n",
    "# Print computation time:\n",
    "end = time.time()\n",
    "print(f\"\\n Computation time: {end-start_solve:.3f} seconds\")\n",
    "\n",
    "# Destroy the handle:\n",
    "opt.handle_free(handle)"
   ]
  },
  {
   "cell_type": "markdown",
   "id": "93760299-5a24-44e0-8c4c-3472b207c25e",
   "metadata": {},
   "source": [
    "In this instance, we solved a model with $641$ variables ($320$ of which were binary) and $644$ constraints. This was efficiently solved in $0.41$ seconds.\n",
    "\n",
    "Using MILP allows the modelling of complex constraints, adding flexibility and sophistication to your problem. The MILP solver used in this portfolio optimization example is available in the NAG Library Optimization Modelling Suite. Learn more about it [here](https://nag.com/mixed-integer-linear-programming/). "
   ]
  },
  {
   "cell_type": "markdown",
   "id": "def14a4d-181f-4b62-a7c9-81a82f0dbc17",
   "metadata": {},
   "source": [
    "## References\n",
    "\n",
    "Benati, S., & Rizzi, R. (2007). A mixed integer linear programming formulation of the optimal mean/value-at-risk portfolio problem. *European Journal of Operational Research*, *176*(1), 423-434."
   ]
  }
 ],
 "metadata": {
  "kernelspec": {
   "display_name": "Python 3 (ipykernel)",
   "language": "python",
   "name": "python3"
  },
  "language_info": {
   "codemirror_mode": {
    "name": "ipython",
    "version": 3
   },
   "file_extension": ".py",
   "mimetype": "text/x-python",
   "name": "python",
   "nbconvert_exporter": "python",
   "pygments_lexer": "ipython3",
   "version": "3.10.8"
  }
 },
 "nbformat": 4,
 "nbformat_minor": 5
}
